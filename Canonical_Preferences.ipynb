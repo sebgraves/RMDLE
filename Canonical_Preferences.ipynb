{
 "cells": [
  {
   "cell_type": "code",
   "execution_count": 1,
   "metadata": {
    "collapsed": true
   },
   "outputs": [],
   "source": [
    "import numpy as np\n",
    "import matplotlib.pyplot as plt\n",
    "from quantecon import LQ\n",
    "from collections import namedtuple\n",
    "from DynLinEcon import DLE\n",
    "from math import sqrt\n",
    "%matplotlib inline"
   ]
  },
  {
   "cell_type": "code",
   "execution_count": 14,
   "metadata": {
    "collapsed": false
   },
   "outputs": [],
   "source": [
    "# Parameters: deltah, thetah, llambda, beta and pih are from Tom's exam question.\n",
    "# The rest of the parameters are from the Hall (1978) model of Chapter 5. (Only ub is relevant for this)\n",
    "\n",
    "gamma1 = 0.1\n",
    "gamma = np.array([[gamma1],[0]])\n",
    "phic = np.array([[1],[0]])\n",
    "phig = np.array([[0],[1]])\n",
    "phi1 = 0.00001\n",
    "phii = np.array([[1],[-phi1]])\n",
    "deltak = np.array([[.95]])\n",
    "thetak = np.array([[1]])\n",
    "\n",
    "a22 = np.array([[1,0,0],[0,0.8,0],[0,0,0.5]])\n",
    "c2 = np.array([[0,0],[1,0],[0,1]])\n",
    "ud = np.array([[5,1,0],[0,0,0]])\n",
    "ub = np.array([[30,0,0],[0,0,0]])\n",
    "x0 = np.array([[5],[150],[1],[0],[0]])\n",
    "\n",
    "deltah1 = 0.9\n",
    "deltah = np.array([[0,1,1,0,0],[0,0,0,0,0],[0,1,0,0,0],[0,0,1,0,0],[1-deltah1,0,0,0,deltah1]])\n",
    "thetah = np.array([[1],[1],[0],[0],[0]])\n",
    "lam1=1\n",
    "llambda = np.array([[lam1, 0, 0, 0, 0],[0,0,0,0,-lam1]])\n",
    "beta = np.array([[0.95]])\n",
    "pih = np.array([[0],[0]])\n",
    "\n",
    "Info1 = (a22,c2,ub,ud)\n",
    "Tech1 = (phic,phig,phii,gamma,deltak,thetak)\n",
    "Pref1 = (beta,llambda,pih,deltah,thetah)"
   ]
  },
  {
   "cell_type": "code",
   "execution_count": 15,
   "metadata": {
    "collapsed": true
   },
   "outputs": [],
   "source": [
    "Econ1 = DLE(Info1, Tech1, Pref1)"
   ]
  },
  {
   "cell_type": "code",
   "execution_count": 16,
   "metadata": {
    "collapsed": false
   },
   "outputs": [],
   "source": [
    "Econ1.canonical()"
   ]
  },
  {
   "cell_type": "code",
   "execution_count": 17,
   "metadata": {
    "collapsed": false
   },
   "outputs": [
    {
     "data": {
      "text/plain": [
       "array([[ 0.99247256]])"
      ]
     },
     "execution_count": 17,
     "metadata": {},
     "output_type": "execute_result"
    }
   ],
   "source": [
    "Econ1.pihat"
   ]
  },
  {
   "cell_type": "code",
   "execution_count": 18,
   "metadata": {
    "collapsed": false
   },
   "outputs": [
    {
     "data": {
      "text/plain": [
       "array([[ 0.03174053,  0.99247256,  0.99247256,  0.        ,  0.28566479]])"
      ]
     },
     "execution_count": 18,
     "metadata": {},
     "output_type": "execute_result"
    }
   ],
   "source": [
    "Econ1.llambdahat"
   ]
  },
  {
   "cell_type": "code",
   "execution_count": 19,
   "metadata": {
    "collapsed": false
   },
   "outputs": [
    {
     "data": {
      "text/plain": [
       "array([[ 23.74153667,  -0.        ,  -0.        ]])"
      ]
     },
     "execution_count": 19,
     "metadata": {},
     "output_type": "execute_result"
    }
   ],
   "source": [
    "Econ1.ubhat"
   ]
  }
 ],
 "metadata": {
  "kernelspec": {
   "display_name": "Python 3",
   "language": "python",
   "name": "python3"
  },
  "language_info": {
   "codemirror_mode": {
    "name": "ipython",
    "version": 3
   },
   "file_extension": ".py",
   "mimetype": "text/x-python",
   "name": "python",
   "nbconvert_exporter": "python",
   "pygments_lexer": "ipython3",
   "version": "3.5.1"
  }
 },
 "nbformat": 4,
 "nbformat_minor": 0
}
