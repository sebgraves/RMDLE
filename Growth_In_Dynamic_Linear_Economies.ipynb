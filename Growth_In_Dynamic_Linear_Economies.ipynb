{
 "cells": [
  {
   "cell_type": "code",
   "execution_count": 1,
   "metadata": {
    "collapsed": false
   },
   "outputs": [
    {
     "name": "stderr",
     "output_type": "stream",
     "text": [
      "//anaconda/lib/python3.5/site-packages/pandas/computation/__init__.py:19: UserWarning: The installed version of numexpr 2.4.4 is not supported in pandas and will be not be used\n",
      "\n",
      "  UserWarning)\n"
     ]
    }
   ],
   "source": [
    "import numpy as np\n",
    "import matplotlib.pyplot as plt\n",
    "from quantecon import LQ\n",
    "from DynLinEcon import DLE\n",
    "%matplotlib inline"
   ]
  },
  {
   "cell_type": "markdown",
   "metadata": {},
   "source": [
    "# Growth in Dynamic Linear Economies\n",
    "\n",
    "This notebook describes a class of complete market economies that exhibit a common linear-quadratic-Gaussian structure. Three examples of such economies are given, to show how the DLE class can be used to solve such economies in Python, and to show how different economies can or cannot generate sustained growth.\n",
    "\n",
    "### Common structure of economies\n",
    "\n",
    "Economies in this class are defined by the following features:\n",
    "\n",
    "* Information flows are governed by an exogenous stochastic process $z_t$ that follows: $$z_{t+1} = A_{22}z_t + C_2w_{t+1}$$ where $w_{t+1}$ is a martingale difference sequence.\n",
    "\n",
    "* Preference shocks $b_t$ and technology shocks $d_t$ are linear functions of $z_t$: $$b_t = U_bz_t$$ $$d_t = U_dz_t$$\n",
    "\n",
    "* Consumption goods are produced using the following technology:\n",
    "$$ \\Phi_c c_t + \\Phi_g g_t + \\Phi_i i_t = \\Gamma k_{t-1} + d_t $$\n",
    "$$k_t = \\Delta_k k_{t-1} + \\Theta_k i_t $$\n",
    "$$ g_t \\cdot g_t = l_t^2 $$\n",
    "where $c_t$ is a vector of consumption goods, $g_t$ is a vector of intermediate goods, $i_t$ is a vector of investment goods, $k_t$ is a vector of physical capital goods, and $l_t$ is the amount of labour supplied by the representative household.\n",
    "\n",
    "* Preferences of a representative household are described by:\n",
    "$$- \\frac{1}{2}\\mathbb{E}\\sum_{t=0}^\\infty \\beta^t [(s_t-b_t)\\cdot(s_t - b_t) + l_t^2], 0 < \\beta < 1 $$\n",
    "$$ s_t = \\Lambda h_{t-1} + \\Pi c_t $$\n",
    "$$ h_t = \\Delta_h h_{t-1} + \\Theta_h c_t $$\n",
    "where $s_t$ is a vector of consumption services, and $h_t$ is a vector of household capital stocks.\n",
    "\n",
    "Thus, an instance of this class of economies is described by the matrices: \n",
    "$$ \\{ A_{22}, C_2, U_b, U_d, \\Phi_c, \\Phi_g, \\Phi_i, \\Gamma, \\Delta_k, \\Theta_k,\\Lambda, \\Pi, \\Delta_h, \\Theta_h \\}$$ and the scalar $\\beta$.\n",
    "\n",
    "\n",
    "### Solving a planning problem\n",
    "\n",
    "The first welfare theorem asserts that a competitive equilibrium allocation solves the following planning problem:\n",
    "\n",
    "Choose $\\{c_t, s_t, i_t, h_t, k_t, g_t\\}_{t=0}^\\infty$ to maximise $- \\frac{1}{2}\\mathbb{E}\\sum_{t=0}^\\infty \\beta^t [(s_t-b_t)\\cdot(s_t - b_t) + g_t \\cdot g_t]$ subject to the linear constraints:\n",
    "\n",
    "$$ \\Phi_c c_t + \\Phi_g g_t + \\Phi_i i_t = \\Gamma k_{t-1} + d_t $$\n",
    "$$k_t = \\Delta_k k_{t-1} + \\Theta_k i_t $$\n",
    "$$ h_t = \\Delta_h h_{t-1} + \\Theta_h c_t $$\n",
    "$$ s_t = \\Lambda h_{t-1} + \\Pi c_t $$\n",
    "and\n",
    "$$z_{t+1} = A_{22}z_t + C_2w_{t+1}$$\n",
    "$$b_t = U_bz_t$$ $$d_t = U_dz_t$$\n",
    "\n",
    "The DLE class in Python solves this problem by mapping it into a linear quadratic setting, and then utilising QuantEcon's LQ class.\n",
    "\n",
    "(See Section 5.5 of Hansen & Sargent (2013) (HS2013) for a full description of how to map these economies into an LQ setting, and how to use the solution to the LQ problem to construct the output matrices in order to simulate the economies.)\n",
    "\n",
    "The state for the LQ problem is $\n",
    "   x_t=\n",
    "  \\left[ {\\begin{array}{c}\n",
    "   h_{t-1} \\\\ k_{t-1} \\\\ z_t\n",
    "   \\end{array} }\n",
    "   \\right]$\n",
    "   and the control variable is $u_t = i_t$.\n",
    "\n",
    "Once the LQ problem has been solved, the law of motion for the state is:\n",
    "$$x_{t+1} = (A-BF)x_t + Cw_{t+1}$$\n",
    "where the optimal control law is $u_t = -Fx_t$. Letting $A^o = A-BF$ we write this law of motion as:\n",
    "$$x_{t+1} = A^ox_t + Cw_{t+1}$$"
   ]
  },
  {
   "cell_type": "markdown",
   "metadata": {},
   "source": [
    "## Example Economies\n",
    "\n",
    "Each of the example economies shown here will share a number of components. In particular, for each we will consider preferences of the form:\n",
    "\n",
    "$$- \\frac{1}{2}\\mathbb{E}\\sum_{t=0}^\\infty \\beta^t [(s_t-b_t)^2 + l_t^2], 0 < \\beta < 1 $$\n",
    "$$ s_t = \\lambda h_{t-1} + \\pi c_t $$\n",
    "$$ h_t = \\delta_h h_{t-1} + \\theta_h c_t $$\n",
    "$$b_t = U_bz_t$$\n",
    "\n",
    "Technology of the form:\n",
    "\n",
    "$$ c_t + i_t = \\gamma_1 k_{t-1} + d_{1t} $$\n",
    "$$k_t = \\delta_k k_{t-1} + i_t $$\n",
    "$$ g_t = \\phi_1 i_t \\, , \\phi_1 > 0$$\n",
    "$$ \\left[ {\\begin{array}{c}\n",
    "   d_{1t} \\\\ 0\n",
    "   \\end{array} } \n",
    "   \\right] = U_dz_t $$\n",
    "   \n",
    "And information of the form:\n",
    "$$ z_{t+1} = \n",
    "\\left[ {\\begin{array}{ccc}\n",
    "   1 & 0 & 0 \\\\ 0 & 0.8 & 0 \\\\ 0 & 0 & 0.5 \n",
    "   \\end{array} } \n",
    "   \\right]\n",
    "   z_t + \n",
    "    \\left[ {\\begin{array}{cc}\n",
    "   0 & 0 \\\\ 1 & 0 \\\\ 0 & 1\n",
    "   \\end{array} } \n",
    "   \\right]\n",
    "   w_{t+1} $$\n",
    "   \n",
    "   $$ U_b = \n",
    "   \\left[ {\\begin{array}{ccc}\n",
    "   30 & 0 & 0\n",
    "   \\end{array} } \n",
    "   \\right]$$\n",
    "   $$U_d = \n",
    "   \\left[ {\\begin{array}{ccc}\n",
    "   5 & 1 & 0 \\\\ 0 & 0 & 0\n",
    "   \\end{array} } \n",
    "   \\right]$$\n",
    "\n",
    "We shall vary $\\{\\lambda, \\pi, \\delta_h, \\theta_h, \\gamma_1, \\delta_k, \\phi_1\\}$ and the initial state $x_0$ across the three economies."
   ]
  },
  {
   "cell_type": "markdown",
   "metadata": {},
   "source": [
    "### Example 1: Hall (1978)\n",
    "\n",
    "First, we set parameters such that consumption follows a random walk. In particular, we set:\n",
    "$$ \\lambda = 0, \\pi = 1, \\gamma_1 = 0.1, \\phi_1 = 0.00001, \\delta_k = 0.95, \\beta = \\frac{1}{1.05} $$\n",
    "(In this economy $\\delta_h$ and $\\theta_h$ are arbitrary as household capital does not enter the equation for consumption services. We set them to values that will become useful in Example 3.)\n",
    "\n",
    "It is worth noting that this choice of parameter values ensures that $\\beta(\\gamma_1 + \\delta_k) = 1$.\n",
    "\n",
    "For simulations of this economy, we choose an initial condition of:\n",
    "$$x_0 = \n",
    "   \\left[ {\\begin{array}{ccccc}\n",
    "   5 & 150 & 1 & 0 & 0\n",
    "   \\end{array} } \n",
    "   \\right]'\n",
    "$$"
   ]
  },
  {
   "cell_type": "code",
   "execution_count": 2,
   "metadata": {
    "collapsed": false
   },
   "outputs": [],
   "source": [
    "gamma1 = 0.1\n",
    "gamma = np.array([[gamma1],[0]])\n",
    "phic = np.array([[1],[0]])\n",
    "phig = np.array([[0],[1]])\n",
    "phi1 = 0.00001\n",
    "phii = np.array([[1],[-phi1]])\n",
    "deltak = np.array([[.95]])\n",
    "thetak = np.array([[1]])\n",
    "beta = np.array([[1/1.05]])\n",
    "llambda = np.array([[0]])\n",
    "pih = np.array([[1]])\n",
    "deltah = np.array([[.9]])\n",
    "thetah = np.array([[1]])-deltah\n",
    "a22 = np.array([[1,0,0],[0,0.8,0],[0,0,0.5]])\n",
    "c2 = np.array([[0,0],[1,0],[0,1]])\n",
    "ud = np.array([[5,1,0],[0,0,0]])\n",
    "ub = np.array([[30,0,0]])\n",
    "x0 = np.array([[5],[150],[1],[0],[0]])\n",
    "\n",
    "Info1 = (a22,c2,ub,ud)\n",
    "Tech1 = (phic,phig,phii,gamma,deltak,thetak)\n",
    "Pref1 = (beta,llambda,pih,deltah,thetah)"
   ]
  },
  {
   "cell_type": "markdown",
   "metadata": {},
   "source": [
    "These parameter values are used to define an economy of the DLE class:"
   ]
  },
  {
   "cell_type": "code",
   "execution_count": 3,
   "metadata": {
    "collapsed": false
   },
   "outputs": [],
   "source": [
    "Econ1 = DLE(Info1, Tech1, Pref1)"
   ]
  },
  {
   "cell_type": "markdown",
   "metadata": {},
   "source": [
    "We can then simulate the economy for a chosen length of time, from our initial state vector $x_0$:"
   ]
  },
  {
   "cell_type": "code",
   "execution_count": 4,
   "metadata": {
    "collapsed": false
   },
   "outputs": [],
   "source": [
    "Econ1.compute_sequence(x0,ts_length = 300)"
   ]
  },
  {
   "cell_type": "markdown",
   "metadata": {},
   "source": [
    "The economy stores the simulated values for each variable. Below we plot consumption and investment:"
   ]
  },
  {
   "cell_type": "code",
   "execution_count": 5,
   "metadata": {
    "collapsed": false
   },
   "outputs": [
    {
     "data": {
      "text/plain": [
       "<matplotlib.legend.Legend at 0x115f13860>"
      ]
     },
     "execution_count": 5,
     "metadata": {},
     "output_type": "execute_result"
    },
    {
     "data": {
      "image/png": "[encoded data removed]",
      "text/plain": [
       "<matplotlib.figure.Figure at 0x113039860>"
      ]
     },
     "metadata": {},
     "output_type": "display_data"
    }
   ],
   "source": [
    "# This is the right panel of Fig 5.7.1 from p.105 of HS2013\n",
    "plt.plot(Econ1.c[0],label='Cons.')\n",
    "plt.plot(Econ1.i[0],label='Inv.')\n",
    "plt.legend(loc='Best')"
   ]
  },
  {
   "cell_type": "markdown",
   "metadata": {},
   "source": [
    "Inspection of the plot shows that the sample paths of consumption and investment drift in the fashion of a random walk. This is confirmed by checking the eigenvalues of $A^o$:"
   ]
  },
  {
   "cell_type": "code",
   "execution_count": 6,
   "metadata": {
    "collapsed": false
   },
   "outputs": [
    {
     "data": {
      "text/plain": [
       "(array([ 0.9,  1. ]), array([ 1. ,  0.8,  0.5]))"
      ]
     },
     "execution_count": 6,
     "metadata": {},
     "output_type": "execute_result"
    }
   ],
   "source": [
    "Econ1.endo, Econ1.exo"
   ]
  },
  {
   "cell_type": "markdown",
   "metadata": {},
   "source": [
    "The endogenous eigenvalue that appears to be unity reflects the random walk character of consumption in Hall's model. In fact, the eigenvalue is very slightly below 1, due to the small adjustment cost $\\phi_1$:"
   ]
  },
  {
   "cell_type": "code",
   "execution_count": 7,
   "metadata": {
    "collapsed": false
   },
   "outputs": [
    {
     "data": {
      "text/plain": [
       "0.99999999999047617"
      ]
     },
     "execution_count": 7,
     "metadata": {},
     "output_type": "execute_result"
    }
   ],
   "source": [
    "Econ1.endo[1]"
   ]
  },
  {
   "cell_type": "markdown",
   "metadata": {},
   "source": [
    "Consequently, it is possible to compute the non-stochastic steady state of consumption, investment and capital in this model:"
   ]
  },
  {
   "cell_type": "code",
   "execution_count": 8,
   "metadata": {
    "collapsed": false
   },
   "outputs": [
    {
     "name": "stdout",
     "output_type": "stream",
     "text": [
      "[[ 5.]] [[ 0.]] [[ 0.001]]\n"
     ]
    }
   ],
   "source": [
    "Econ1.compute_steadystate()\n",
    "np.set_printoptions(precision=3,suppress=True)\n",
    "print(Econ1.css, Econ1.iss, Econ1.kss)"
   ]
  },
  {
   "cell_type": "markdown",
   "metadata": {},
   "source": [
    "However, the near-unity endogenous eigenvalue means that these steady state values are of little importance."
   ]
  },
  {
   "cell_type": "markdown",
   "metadata": {},
   "source": [
    "### Example 2: Altered growth condition\n",
    "We generate our next economy by making two alterations to the parameters of Example 1.\n",
    "\n",
    "First, we raise $\\phi_1$ from 0.00001 to 1. This will lower the endogenous eigenvalue that is close to 1, causing the economy to head more quickly to the vicinity of its non-stochastic steady-state.\n",
    "\n",
    "Second, we raise $\\gamma_1$ from 0.1 to 0.15. This has the effect of raising the optimal steady-state value of capital.\n",
    "\n",
    "We also start the economy off from an initial condition with a lower capital stock:\n",
    "$$x_0 = \n",
    "   \\left[ {\\begin{array}{ccccc}\n",
    "   5 & 20 & 1 & 0 & 0\n",
    "   \\end{array} } \n",
    "   \\right]'\n",
    "$$\n",
    "\n",
    "Therefore, we need to define the following new parameters:"
   ]
  },
  {
   "cell_type": "code",
   "execution_count": 9,
   "metadata": {
    "collapsed": true
   },
   "outputs": [],
   "source": [
    "gamma2 = 0.15\n",
    "gamma22 = np.array([[gamma2],[0]])\n",
    "\n",
    "phi12 = 1\n",
    "phii2 = np.array([[1],[-phi12]])\n",
    "\n",
    "Tech2 = (phic,phig,phii2,gamma22,deltak,thetak)\n",
    "\n",
    "x02 = np.array([[5],[20],[1],[0],[0]])"
   ]
  },
  {
   "cell_type": "markdown",
   "metadata": {},
   "source": [
    "Creating the DLE class and then simulating gives the following plot for consumption and investment:"
   ]
  },
  {
   "cell_type": "code",
   "execution_count": 10,
   "metadata": {
    "collapsed": false
   },
   "outputs": [
    {
     "data": {
      "text/plain": [
       "<matplotlib.legend.Legend at 0x1160be0f0>"
      ]
     },
     "execution_count": 10,
     "metadata": {},
     "output_type": "execute_result"
    },
    {
     "data": {
      "image/png": "[encoded data removed]",
      "text/plain": [
       "<matplotlib.figure.Figure at 0x115f6fcc0>"
      ]
     },
     "metadata": {},
     "output_type": "display_data"
    }
   ],
   "source": [
    "Econ2 = DLE(Info1, Tech2, Pref1)\n",
    "\n",
    "Econ2.compute_sequence(x02,ts_length = 300)\n",
    "\n",
    "plt.plot(Econ2.c[0],label='Cons.')\n",
    "plt.plot(Econ2.i[0],label='Inv.')\n",
    "plt.legend(loc='Best')"
   ]
  },
  {
   "cell_type": "markdown",
   "metadata": {},
   "source": [
    "Simulating our new economy shows that consumption grows quickly in the early stages of the sample. However, it then settles down around the new non-stochastic steady-state level of consumption of 17.5, which we find as follows:"
   ]
  },
  {
   "cell_type": "code",
   "execution_count": 11,
   "metadata": {
    "collapsed": false
   },
   "outputs": [
    {
     "name": "stdout",
     "output_type": "stream",
     "text": [
      "[[ 17.5]] [[ 6.25]] [[ 125.]]\n"
     ]
    }
   ],
   "source": [
    "Econ2.compute_steadystate()\n",
    "print(Econ2.css, Econ2.iss, Econ2.kss)"
   ]
  },
  {
   "cell_type": "markdown",
   "metadata": {},
   "source": [
    "The economy converges faster to this level than in Example 1 as the largest endogenous eigenvalue of $A^o$ is now significantly lower than 1:"
   ]
  },
  {
   "cell_type": "code",
   "execution_count": 12,
   "metadata": {
    "collapsed": false
   },
   "outputs": [
    {
     "data": {
      "text/plain": [
       "(array([ 0.9  ,  0.952]), array([ 1. ,  0.8,  0.5]))"
      ]
     },
     "execution_count": 12,
     "metadata": {},
     "output_type": "execute_result"
    }
   ],
   "source": [
    "Econ2.endo, Econ2.exo"
   ]
  },
  {
   "cell_type": "markdown",
   "metadata": {},
   "source": [
    "### Example 3: A Jones-Manuelli (1990) Economy\n",
    "For our third economy, we choose parameter values with the aim of generating *sustained* growth in consumption, investment and capital. \n",
    "\n",
    "To do this, we set parameters such that Jones and Manuelli's \"growth condition\" is just satisfied. In our notation, just satisfying the growth condition is actually equivalent to setting $\\beta(\\gamma_1 + \\delta_k) = 1$, the condition that was necessary for consumption to be a random walk in Hall's model. Thus, we lower $\\gamma_1$ back to 0.1.\n",
    "\n",
    "In our model, this is a necessary but not sufficient condition for growth. To generate growth we set preference parameters to reflect habit persistence. In particular, we set $\\lambda = -1$, $\\delta_h = 0.9$ and $\\theta_h = 1 - \\delta_h = 0.1$.\n",
    "\n",
    "This makes preferences assume the form:\n",
    "\n",
    "$$- \\frac{1}{2}\\mathbb{E}\\sum_{t=0}^\\infty \\beta^t [(c_t-b_t - (1-\\delta_h)\\sum_{j=0}^\\infty \\delta_h^jc_{t-j-1})^2 + l_t^2]$$\n",
    "\n",
    "These preferences reflect habit persistence, as the effective \"bliss point\" $b_t + (1-\\delta_h)\\sum_{j=0}^\\infty \\delta_h^jc_{t-j-1}$now shifts in response to a moving average of past consumption. \n",
    "\n",
    "As $\\delta_h$ and $\\theta_h$ were defined earlier, the only change we need to make from the parameters of Example 1 is to define the new value of $\\lambda$:"
   ]
  },
  {
   "cell_type": "code",
   "execution_count": 13,
   "metadata": {
    "collapsed": true
   },
   "outputs": [],
   "source": [
    "llambda2 = np.array([[-1]])\n",
    "Pref2 = (beta,llambda2,pih,deltah,thetah)"
   ]
  },
  {
   "cell_type": "code",
   "execution_count": 14,
   "metadata": {
    "collapsed": false
   },
   "outputs": [],
   "source": [
    "Econ3 = DLE(Info1, Tech1, Pref2)"
   ]
  },
  {
   "cell_type": "markdown",
   "metadata": {},
   "source": [
    "We simulate this economy from the original state vector:"
   ]
  },
  {
   "cell_type": "code",
   "execution_count": 15,
   "metadata": {
    "collapsed": false
   },
   "outputs": [
    {
     "data": {
      "text/plain": [
       "<matplotlib.legend.Legend at 0x1161342b0>"
      ]
     },
     "execution_count": 15,
     "metadata": {},
     "output_type": "execute_result"
    },
    {
     "data": {
      "image/png": "[encoded data removed]",
      "text/plain": [
       "<matplotlib.figure.Figure at 0x1160e3908>"
      ]
     },
     "metadata": {},
     "output_type": "display_data"
    }
   ],
   "source": [
    "Econ3.compute_sequence(x0,ts_length = 300)\n",
    "\n",
    "# This is the right panel of Fig 5.10.1 from p.110 of HS2013\n",
    "plt.plot(Econ3.c[0],label='Cons.')\n",
    "plt.plot(Econ3.i[0],label='Inv.')\n",
    "plt.legend(loc='Best')"
   ]
  },
  {
   "cell_type": "markdown",
   "metadata": {},
   "source": [
    "Thus, adding habit persistence to the Hall model of Example 1 is enough to generate sustained growth in our economy. The eigenvalues of $A^o$ in this new economy are:"
   ]
  },
  {
   "cell_type": "code",
   "execution_count": 16,
   "metadata": {
    "collapsed": false
   },
   "outputs": [
    {
     "data": {
      "text/plain": [
       "(array([ 1.+0.j,  1.-0.j]), array([ 1. ,  0.8,  0.5]))"
      ]
     },
     "execution_count": 16,
     "metadata": {},
     "output_type": "execute_result"
    }
   ],
   "source": [
    "Econ3.endo, Econ3.exo"
   ]
  },
  {
   "cell_type": "markdown",
   "metadata": {},
   "source": [
    "We now have two unit endogenous eigenvalues. One stems from satisfying the growth condition (as in Example 1). The other results from setting $\\lambda = -1$. To show the importance of both of these for generating growth, we consider the following experiments:\n",
    "\n",
    "#### Example 3.1: Raise $\\lambda$ to -0.7"
   ]
  },
  {
   "cell_type": "code",
   "execution_count": 17,
   "metadata": {
    "collapsed": false
   },
   "outputs": [
    {
     "data": {
      "text/plain": [
       "<matplotlib.legend.Legend at 0x116349a58>"
      ]
     },
     "execution_count": 17,
     "metadata": {},
     "output_type": "execute_result"
    },
    {
     "data": {
      "image/png": "[encoded data removed]",
      "text/plain": [
       "<matplotlib.figure.Figure at 0x1160fd2e8>"
      ]
     },
     "metadata": {},
     "output_type": "display_data"
    }
   ],
   "source": [
    "llambda3 = np.array([[-0.7]])\n",
    "Pref3 = (beta,llambda3,pih,deltah,thetah)\n",
    "\n",
    "Econ4 = DLE(Info1, Tech1, Pref3)\n",
    "\n",
    "Econ4.compute_sequence(x0,ts_length = 300)\n",
    "\n",
    "plt.plot(Econ4.c[0],label='Cons.')\n",
    "plt.plot(Econ4.i[0],label='Inv.')\n",
    "plt.legend(loc='Best')"
   ]
  },
  {
   "cell_type": "markdown",
   "metadata": {},
   "source": [
    "We no longer achieve sustained growth if $\\lambda$ is raised from -1 to -0.7. This is related to the fact that one of the endogenous eigenvalues is now less than 1:"
   ]
  },
  {
   "cell_type": "code",
   "execution_count": 18,
   "metadata": {
    "collapsed": false
   },
   "outputs": [
    {
     "data": {
      "text/plain": [
       "(array([ 0.97,  1.  ]), array([ 1. ,  0.8,  0.5]))"
      ]
     },
     "execution_count": 18,
     "metadata": {},
     "output_type": "execute_result"
    }
   ],
   "source": [
    "Econ4.endo, Econ4.exo"
   ]
  },
  {
   "cell_type": "markdown",
   "metadata": {},
   "source": [
    "#### Example 3.2: Lower $\\beta$ to 0.94"
   ]
  },
  {
   "cell_type": "code",
   "execution_count": 19,
   "metadata": {
    "collapsed": false
   },
   "outputs": [
    {
     "data": {
      "text/plain": [
       "<matplotlib.legend.Legend at 0x11645c048>"
      ]
     },
     "execution_count": 19,
     "metadata": {},
     "output_type": "execute_result"
    },
    {
     "data": {
      "image/png": "[encoded data removed]",
      "text/plain": [
       "<matplotlib.figure.Figure at 0x11631cba8>"
      ]
     },
     "metadata": {},
     "output_type": "display_data"
    }
   ],
   "source": [
    "beta2 = np.array([[0.94]])\n",
    "Pref4 = (beta2,llambda,pih,deltah,thetah)\n",
    "\n",
    "Econ5 = DLE(Info1, Tech1, Pref4)\n",
    "\n",
    "Econ5.compute_sequence(x0,ts_length = 300)\n",
    "\n",
    "plt.plot(Econ5.c[0],label='Cons.')\n",
    "plt.plot(Econ5.i[0],label='Inv.')\n",
    "plt.legend(loc='Best')"
   ]
  },
  {
   "cell_type": "markdown",
   "metadata": {},
   "source": [
    "Growth also fails if we lower $\\beta$, as we now have $\\beta(\\gamma_1 + \\delta_k) < 1$. Consumption and investment explode downwards, as a lower value of $\\beta$ causes the representative consumer to front-load consumption. This explosive path shows up in the second endogeous eigenvalue now being larger than one:"
   ]
  },
  {
   "cell_type": "code",
   "execution_count": 20,
   "metadata": {
    "collapsed": false
   },
   "outputs": [
    {
     "data": {
      "text/plain": [
       "(array([ 0.9  ,  1.013]), array([ 1. ,  0.8,  0.5]))"
      ]
     },
     "execution_count": 20,
     "metadata": {},
     "output_type": "execute_result"
    }
   ],
   "source": [
    "Econ5.endo, Econ5.exo"
   ]
  }
 ],
 "metadata": {
  "kernelspec": {
   "display_name": "Python 3",
   "language": "python",
   "name": "python3"
  },
  "language_info": {
   "codemirror_mode": {
    "name": "ipython",
    "version": 3
   },
   "file_extension": ".py",
   "mimetype": "text/x-python",
   "name": "python",
   "nbconvert_exporter": "python",
   "pygments_lexer": "ipython3",
   "version": "3.5.1"
  }
 },
 "nbformat": 4,
 "nbformat_minor": 0
}
