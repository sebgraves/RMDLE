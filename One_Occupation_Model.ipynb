{
 "cells": [
  {
   "cell_type": "code",
   "execution_count": 8,
   "metadata": {
    "collapsed": false
   },
   "outputs": [],
   "source": [
    "import numpy as np\n",
    "import matplotlib.pyplot as plt\n",
    "from quantecon import LQ\n",
    "from collections import namedtuple\n",
    "from DynLinEcon import DLE\n",
    "from math import sqrt\n",
    "%matplotlib inline"
   ]
  },
  {
   "cell_type": "markdown",
   "metadata": {},
   "source": [
    "# Models of occupational choice and pay\n",
    "\n",
    "### 1. A One-Occupation Model\n",
    "\n",
    "Ryoo and Rosen's (2004) partial equilibrium model determines a stock of \"Engineers\" $N_t$; the number of new entrants in engineering school, $n_t$; and the wage level, $w_t$, of engineers. It takes k periods of schooling to become an engineer. The model consists of the following equations: first, a demand curve for engineers:\n",
    "\n",
    "$$w_t = - \\alpha_d N_t + \\epsilon_{dt} $$\n",
    "\n",
    "second, a time-to-build structure of the education process:\n",
    "\n",
    "$$ N_{t+k} = \\delta_N N_{t+k-1} + n_t $$\n",
    "\n",
    "third, a definition of the discounted present value of each new engineering student:\n",
    "\n",
    "$$ v_t = \\beta_k \\mathbb{E} \\sum_{j=0}^\\infty (\\beta \\delta_N)^j w_{t+k+j}$$\n",
    "\n",
    "and fourth, a supply curve of new students driven by $v_t$:\n",
    "\n",
    "$$n_t = \\alpha_s v_t + \\epsilon_{st} $$\n",
    "\n",
    "### Mapping into HS2013 framework\n",
    "\n",
    "We represent this model in the HS2013 framework by sweeping the time-to-build structure and the demand for engineers into the household technology, and putting the supply of engineers into the technology for producing goods. Specifically:\n",
    "\n",
    "#### Preferences\n",
    "\n",
    "$$ \\Pi = 0, \\Lambda= \n",
    "\\left[ {\\begin{array}{ccccc}\n",
    "   \\alpha_d & 0 & \\cdots & 0 \n",
    "   \\end{array} } \n",
    "   \\right]\n",
    ", \\Delta_h = \n",
    "\\left[ {\\begin{array}{ccccc}\n",
    "   \\delta_N & 1 & 0 & \\cdots & 0 \\\\ 0 & 0 & 1 & \\cdots & 0 \\\\ \\vdots & \\vdots & \\vdots & \\ddots & \\vdots \\\\ 0 & \\cdots& \\cdots & 0 & 1 \\\\ 0 & 0 & 0 & \\cdots & 0 \n",
    "   \\end{array} } \n",
    "   \\right]\n",
    "   , \\Theta_h = \n",
    "\\left[ {\\begin{array}{c}\n",
    "   0 \\\\ 0 \\\\ \\vdots \\\\ 0 \\\\ 1\n",
    "   \\end{array} } \n",
    "   \\right] \n",
    "$$\n",
    "\n",
    "(where $\\Lambda$ is a k+1 x 1 matrix, $\\Delta_h$ is a k_1 x k+1 matrix, and $\\Theta_h$ is a k+1 x 1 matrix.)\n",
    "\n",
    "This specification sets $N_t = h_{1t-1}$, $n_t = c_t$, $h_{\\tau+1,t-1} = n_{t-(k-\\tau)}$ for $\\tau = 1,...,k$. Below we set up the model such that the number of years of education, k, can be varied.\n",
    "\n",
    "#### Technology\n",
    "\n",
    "To capture Ryoo and Rosen's supply curve, we use the physical technology:\n",
    "\n",
    "$$ c_t = i_t + d_{1t} $$\n",
    "$$ \\psi_1i_t = g_t $$\n",
    "\n",
    "(where $\\psi_1$ is inversely proportional to $\\alpha_s$)\n",
    "\n",
    "#### Information\n",
    "\n",
    "We want to set $b_t = \\epsilon_{dt}$ and $d_{1t} = \\epsilon_{st} $. Therefore:\n",
    "\n",
    "$$ A_{22}= \n",
    "\\left[ {\\begin{array}{ccc}\n",
    "   1 & 0 & 0 \\\\ 0 & \\rho_s & 0 \\\\ 0 & 0 & \\rho_d\n",
    "   \\end{array} } \n",
    "   \\right]\n",
    ",   C_2 = \n",
    "\\left[ {\\begin{array}{ccc}\n",
    "   0 & 0 \\\\ 1 & 0 \\\\ 0 & 1\n",
    "   \\end{array} } \n",
    "   \\right]\n",
    ",   U_b = \n",
    "\\left[ {\\begin{array}{cccc}\n",
    "   30 & 0 & 1\n",
    "   \\end{array} } \n",
    "   \\right]\n",
    ",   U_d = \n",
    "\\left[ {\\begin{array}{c}\n",
    "   10 & 1 & 0 \\\\ 0 & 0 & 0\n",
    "   \\end{array} } \n",
    "   \\right]\n",
    "$$\n",
    "\n",
    " (where $\\rho_s$ and $\\rho_d$ describe the persistence of the supply and demand shocks)"
   ]
  },
  {
   "cell_type": "code",
   "execution_count": 2,
   "metadata": {
    "collapsed": false
   },
   "outputs": [],
   "source": [
    "Information = namedtuple('Information', ['a22', 'c2','ub','ud'])\n",
    "Technology = namedtuple('Technology', ['phic','phig','phii','gamma','deltak','thetak'])\n",
    "Preferences = namedtuple('Preferences', ['beta','llambda','pih','deltah','thetah'])"
   ]
  },
  {
   "cell_type": "markdown",
   "metadata": {},
   "source": [
    "In this notebook we will study how changing the number of years of education required to become an engineer, and changing the slope of the demand curve, affects the response of the economy to demand shocks.\n",
    "\n",
    "To begin with, we set $k = 4$ and $\\alpha_d = 0.1$."
   ]
  },
  {
   "cell_type": "code",
   "execution_count": 3,
   "metadata": {
    "collapsed": false
   },
   "outputs": [],
   "source": [
    "k = 4 #Number of periods of schooling required to become engineer\n",
    "\n",
    "beta = np.array([[1/1.05]])\n",
    "alphad = np.array([[0.1]])\n",
    "alphas = 1\n",
    "eps1=.0000001\n",
    "lam1 = np.ones((1,k))*eps1\n",
    "llambda = np.hstack((alphad,lam1)) #Use of eps1 is trick to aquire detectability, see HS2013 p. 228 footnote 4\n",
    "pih = np.array([[0]])\n",
    "\n",
    "deltan = np.array([[0.95]])\n",
    "d1 = np.vstack((deltan,np.zeros((k-1,1))))\n",
    "d2 = np.hstack((d1,np.eye(k)))\n",
    "deltah = np.vstack((d2, np.zeros((1,k+1))))\n",
    "\n",
    "thetah = np.vstack((np.zeros((k,1)),np.ones((1,1))))\n",
    "\n",
    "psi1 = 1/alphas\n",
    "\n",
    "phic = np.array([[1],[0]])\n",
    "phig = np.array([[0],[-1]])\n",
    "phii = np.array([[-1],[psi1]])\n",
    "gamma = np.array([[0],[0]])\n",
    "\n",
    "deltak = np.array([[0]])\n",
    "thetak = np.array([[0]])\n",
    "\n",
    "rho_s = 0.8\n",
    "rho_d = 0.8\n",
    "\n",
    "a22 = np.array([[1,0,0],[0,rho_s,0],[0,0,rho_d]])\n",
    "c2 = np.array([[0,0],[10,0],[0,10]])\n",
    "ub = np.array([[30,0,1]])\n",
    "ud = np.array([[10,1,0],[0,0,0]])\n",
    "\n",
    "Info1 = Information(a22,c2,ub,ud)\n",
    "Tech1 = Technology(phic,phig,phii,gamma,deltak,thetak)\n",
    "Pref1 = Preferences(beta,llambda,pih,deltah,thetah)\n",
    "\n",
    "Econ1 = DLE(Info1,Tech1,Pref1)"
   ]
  },
  {
   "cell_type": "markdown",
   "metadata": {},
   "source": [
    "We create three other economies by:\n",
    "\n",
    "1. Raising $\\alpha_d$ to 2\n",
    "2. Raising k to 7\n",
    "3. Raising k to 10"
   ]
  },
  {
   "cell_type": "code",
   "execution_count": 4,
   "metadata": {
    "collapsed": true
   },
   "outputs": [],
   "source": [
    "alphad = np.array([[2]])\n",
    "llambda = np.hstack((alphad,lam1))\n",
    "Pref2 = Preferences(beta,llambda,pih,deltah,thetah)\n",
    "Econ2 = DLE(Info1,Tech1,Pref2)\n",
    "\n",
    "alphad = np.array([[0.1]])\n",
    "\n",
    "k = 7\n",
    "lam1 = np.ones((1,k))*eps1\n",
    "llambda = np.hstack((alphad,lam1))\n",
    "d1 = np.vstack((deltan,np.zeros((k-1,1))))\n",
    "d2 = np.hstack((d1,np.eye(k)))\n",
    "deltah = np.vstack((d2, np.zeros((1,k+1))))\n",
    "thetah = np.vstack((np.zeros((k,1)),np.ones((1,1))))\n",
    "\n",
    "Pref3 = Preferences(beta,llambda,pih,deltah,thetah)\n",
    "Econ3 = DLE(Info1,Tech1,Pref3)\n",
    "\n",
    "k = 10\n",
    "lam1 = np.ones((1,k))*eps1\n",
    "llambda = np.hstack((alphad,lam1))\n",
    "d1 = np.vstack((deltan,np.zeros((k-1,1))))\n",
    "d2 = np.hstack((d1,np.eye(k)))\n",
    "deltah = np.vstack((d2, np.zeros((1,k+1))))\n",
    "thetah = np.vstack((np.zeros((k,1)),np.ones((1,1))))\n",
    "\n",
    "Pref4 = Preferences(beta,llambda,pih,deltah,thetah)\n",
    "Econ4 = DLE(Info1,Tech1,Pref4)"
   ]
  },
  {
   "cell_type": "code",
   "execution_count": 5,
   "metadata": {
    "collapsed": false
   },
   "outputs": [],
   "source": [
    "shock_demand = np.array([[0],[1]])\n",
    "\n",
    "Econ1.irf(ts_length=25,shock = shock_demand)\n",
    "Econ2.irf(ts_length=25,shock = shock_demand)\n",
    "Econ3.irf(ts_length=25,shock = shock_demand)\n",
    "Econ4.irf(ts_length=25,shock = shock_demand)"
   ]
  },
  {
   "cell_type": "markdown",
   "metadata": {},
   "source": [
    "The first figure plots the impulse response of $n_t$ (on the left) and $N_t$ (on the right) to a positive demand shock, for $\\alpha_d = 0.1$ and $\\alpha_d = 2$.\n",
    "\n",
    "When $\\alpha_d = 2$, the number of new students $n_t$ rises initially, but the response then turns negative. A positive demand shock raises wages, drawing new students into the profession. However, these new students raise $N_t$. The higher is $\\alpha_d$, the larger the effect of this rise in $N_t$ on wages. This counteracts the demand shock's positive effect on wages, reducing the number of new students in subsequent periods. Consequently, when $\\alpha_d$ is lower, the effect of a demand shock on $N_t$ is larger."
   ]
  },
  {
   "cell_type": "code",
   "execution_count": 6,
   "metadata": {
    "collapsed": false
   },
   "outputs": [
    {
     "data": {
      "text/plain": [
       "<matplotlib.text.Text at 0x116641550>"
      ]
     },
     "execution_count": 6,
     "metadata": {},
     "output_type": "execute_result"
    },
    {
     "data": {
      "image/png": "[encoded data removed]",
      "text/plain": [
       "<matplotlib.figure.Figure at 0x11383b2e8>"
      ]
     },
     "metadata": {},
     "output_type": "display_data"
    }
   ],
   "source": [
    "plt.figure(figsize=(12,4))\n",
    "plt.subplot(121)\n",
    "plt.plot(Econ1.c_irf,label='alpha_d = 0.1')\n",
    "plt.plot(Econ2.c_irf,label='alpha_d = 2')\n",
    "plt.ylim((-0.2,1.5))\n",
    "plt.xlim((-1,25))\n",
    "plt.legend(loc='Best')\n",
    "plt.title('Response of $n_t$ to a demand shock')\n",
    "\n",
    "plt.subplot(122)\n",
    "plt.plot(Econ1.h_irf[:,0],label='alpha_d = 0.1')\n",
    "plt.plot(Econ2.h_irf[:,0],label='alpha_d = 2')\n",
    "plt.ylim((-0.05,2.5))\n",
    "plt.xlim((-1,25))\n",
    "plt.legend(loc='Best')\n",
    "plt.title('Response of $N_t$ to a demand shock')\n"
   ]
  },
  {
   "cell_type": "markdown",
   "metadata": {},
   "source": [
    "The second figure plots the impulse response of $n_t$ (on the left) and $N_t$ (on the right) to a positive demand shock, for $k=4$, $k=7$ and $k=10$ (with $\\alpha_d = 0.1$). Both figures show that raising k lowers the effect of a positive demand shock on entry to the profession. \n",
    "\n",
    "Increasing the number of periods of schooling that is required lowers the number of new students in response to a demand shock, as new students will benefit less from the impact of that shock on wages."
   ]
  },
  {
   "cell_type": "code",
   "execution_count": 7,
   "metadata": {
    "collapsed": false
   },
   "outputs": [
    {
     "data": {
      "text/plain": [
       "<matplotlib.text.Text at 0x116c053c8>"
      ]
     },
     "execution_count": 7,
     "metadata": {},
     "output_type": "execute_result"
    },
    {
     "data": {
      "image/png": "[encoded data removed]",
      "text/plain": [
       "<matplotlib.figure.Figure at 0x116746278>"
      ]
     },
     "metadata": {},
     "output_type": "display_data"
    }
   ],
   "source": [
    "plt.figure(figsize=(12,4))\n",
    "plt.subplot(121)\n",
    "plt.plot(Econ1.c_irf,label='k = 4')\n",
    "plt.plot(Econ3.c_irf,label='k = 7')\n",
    "plt.plot(Econ4.c_irf,label='k = 10')\n",
    "plt.ylim((-0.05,1))\n",
    "plt.xlim((-1,25))\n",
    "plt.legend(loc='Best')\n",
    "plt.title('Response of $n_t$ to a demand shock')\n",
    "\n",
    "plt.subplot(122)\n",
    "plt.plot(Econ1.h_irf[:,0],label='k = 4')\n",
    "plt.plot(Econ3.h_irf[:,0],label='k = 7')\n",
    "plt.plot(Econ4.h_irf[:,0],label='k = 10')\n",
    "plt.legend(loc='Best')\n",
    "plt.ylim((-0.05,2.5))\n",
    "plt.xlim((-1,25))\n",
    "plt.title('Response of $N_t$ to a demand shock')"
   ]
  }
 ],
 "metadata": {
  "kernelspec": {
   "display_name": "Python 3",
   "language": "python",
   "name": "python3"
  },
  "language_info": {
   "codemirror_mode": {
    "name": "ipython",
    "version": 3
   },
   "file_extension": ".py",
   "mimetype": "text/x-python",
   "name": "python",
   "nbconvert_exporter": "python",
   "pygments_lexer": "ipython3",
   "version": "3.5.1"
  }
 },
 "nbformat": 4,
 "nbformat_minor": 0
}
